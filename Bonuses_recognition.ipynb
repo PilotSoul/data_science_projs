{
 "cells": [
  {
   "cell_type": "code",
   "execution_count": 1,
   "id": "2e9ef82c",
   "metadata": {},
   "outputs": [],
   "source": [
    "import albumentations as A\n",
    "from sklearn.preprocessing import LabelBinarizer\n",
    "import tensorflow as tf\n",
    "from tensorflow import keras\n",
    "from sklearn.model_selection import train_test_split\n",
    "from sklearn.metrics import classification_report\n",
    "from keras.models import Sequential\n",
    "from keras.layers import Dense, Dropout, Flatten, BatchNormalization\n",
    "from keras.layers import Conv2D, MaxPooling2D\n",
    "from keras.utils import normalize\n",
    "from tensorflow.keras.optimizers import SGD\n",
    "from tensorflow.keras.optimizers import RMSprop\n",
    "import matplotlib.pyplot as plt\n",
    "from imutils import paths\n",
    "import zipfile # Библиотека для работы с zip архивами\n",
    "import os      # Библиотека для работы с фаловой системой \n",
    "import time \n",
    "import pandas as pd\n",
    "import numpy as np\n",
    "import random\n",
    "import pickle\n",
    "import cv2 as cv\n",
    "import os"
   ]
  },
  {
   "cell_type": "markdown",
   "id": "dd84822c",
   "metadata": {},
   "source": [
    "### Аугментируем данные"
   ]
  },
  {
   "cell_type": "code",
   "execution_count": null,
   "id": "28bb6d34",
   "metadata": {},
   "outputs": [],
   "source": [
    "# transform = A.Compose([\n",
    "#             A.RandomBrightnessContrast(p=0.2),\n",
    "#             A.GaussNoise(p=0.5, var_limit=(0.0, 114.0)),\n",
    "#             A.ChannelShuffle(p=0.4),\n",
    "#             A.GridDistortion(),\n",
    "#             A.RandomScale(always_apply=False, p=0.9, scale_limit=(0.2, 2)),\n",
    "#             ])"
   ]
  },
  {
   "cell_type": "code",
   "execution_count": null,
   "id": "c8206a04",
   "metadata": {},
   "outputs": [],
   "source": [
    "# pics = os.listdir('bonuses')\n",
    "# for i in range(len(pics)):\n",
    "#     if pics[i] == '.DS_Store':\n",
    "#         continue\n",
    "#     image = cv.imread('bonuses/'+ pics[i])\n",
    "#     image = cv.cvtColor(image, cv.COLOR_BGR2RGB)\n",
    "#     for j in range(7):\n",
    "#         transformed = transform(image=image)\n",
    "#         transformed_image = transformed[\"image\"]\n",
    "#         cv.imwrite(f'bonuses/{pics[i]}_{i}{j}.jpg', transformed_image)"
   ]
  },
  {
   "cell_type": "markdown",
   "id": "0538f632",
   "metadata": {},
   "source": [
    "## Обучение данных"
   ]
  },
  {
   "cell_type": "code",
   "execution_count": null,
   "id": "db049c83",
   "metadata": {},
   "outputs": [],
   "source": [
    "# import pathlib\n",
    "# path = pathlib.Path(\"00\")\n",
    "# for i, path in enumerate(path.glob('*.jpg')):\n",
    "#     new_name = '0_' + str(i) + '.jpg'\n",
    "#     path.rename('0/' + new_name)"
   ]
  },
  {
   "cell_type": "code",
   "execution_count": 2,
   "id": "aa51bbee",
   "metadata": {},
   "outputs": [],
   "source": [
    "data = []\n",
    "labels = []"
   ]
  },
  {
   "cell_type": "code",
   "execution_count": 3,
   "id": "11cacb39",
   "metadata": {},
   "outputs": [],
   "source": [
    "def get_time_read(dir_read):\n",
    "    cur_time = time.time()          # Засекаем текущее время\n",
    "    num = 0                         # Количество прочитанных файлов\n",
    "    list_dir = os.listdir(dir_read) # Получаем список подкаталогов                  \n",
    "    for cur_dir in list_dir:\n",
    "        if cur_dir == '.DS_Store':\n",
    "            continue\n",
    "        else:\n",
    "            list_file = os.listdir(dir_read + '/' + cur_dir)\n",
    "            try:\n",
    "                for cur_file in list_file:\n",
    "                    if cur_file == '.DS_Store':\n",
    "                        continue\n",
    "                    image = cv.imread(dir_read + '/' + cur_dir + '/' + cur_file)\n",
    "                    image = cv.cvtColor(image, cv.COLOR_BGR2RGB)\n",
    "                    image = cv.cvtColor(image, cv.COLOR_RGB2GRAY)\n",
    "                    image = cv.resize(image, (100, 100))\n",
    "                    data.append(image)\n",
    "                    category = cur_file.split('_')[0]\n",
    "                    if category == '100':\n",
    "                        labels.append(1)\n",
    "                    else:\n",
    "                        labels.append(0)\n",
    "                    num += 1\n",
    "            except Exception as e:\n",
    "                print(e)\n",
    "    print('Количество загруженных изображений =', num)\n",
    "    print('Затрачено времени -', round(time.time() - cur_time, 2), 'cек')"
   ]
  },
  {
   "cell_type": "code",
   "execution_count": 4,
   "id": "1490441f",
   "metadata": {},
   "outputs": [
    {
     "name": "stdout",
     "output_type": "stream",
     "text": [
      "Количество загруженных изображений = 2656\n",
      "Затрачено времени - 3.84 cек\n"
     ]
    }
   ],
   "source": [
    "try:\n",
    "    get_time_read('bonuses')\n",
    "except:\n",
    "    print('x')"
   ]
  },
  {
   "cell_type": "code",
   "execution_count": 5,
   "id": "401cb96b",
   "metadata": {},
   "outputs": [],
   "source": [
    "data = np.array(data, dtype=\"float\") / 255.0\n",
    "labels = np.array(labels)\n",
    "\n",
    "(trainX, testX, trainY, testY) = train_test_split(data,\n",
    "    labels, test_size=0.20, random_state=30)\n",
    "\n",
    "trainX = normalize(trainX, axis=1)\n",
    "testX = normalize(testX, axis=1)"
   ]
  },
  {
   "cell_type": "code",
   "execution_count": 13,
   "id": "dad34cd0",
   "metadata": {},
   "outputs": [],
   "source": [
    "INIT_LR = 0.001\n",
    "EPOCHS = 15\n",
    "# INPUT_SHAPE = (100, 100, 3, )"
   ]
  },
  {
   "cell_type": "code",
   "execution_count": 22,
   "id": "68f16963",
   "metadata": {},
   "outputs": [],
   "source": [
    "model = Sequential()\n",
    "\n",
    "model.add(Conv2D(32, (3, 3), activation = 'relu', input_shape=(100, 100, 1, )))\n",
    "model.add(MaxPooling2D(pool_size=(2, 2)))\n",
    "model.add(Conv2D(32, (3, 3), kernel_initializer='he_uniform', activation = 'relu'))\n",
    "model.add(MaxPooling2D(pool_size=(2, 2)))\n",
    "model.add(Conv2D(64, (3, 3), kernel_initializer='he_uniform', activation = 'relu'))\n",
    "model.add(MaxPooling2D(pool_size=(2, 2)))\n",
    "\n",
    "model.add(Flatten())\n",
    "model.add(Dense(64,activation='relu'))\n",
    "model.add(Dropout(0.5))\n",
    "model.add(Dense(1,activation='sigmoid'))"
   ]
  },
  {
   "cell_type": "code",
   "execution_count": 23,
   "id": "bc030324",
   "metadata": {},
   "outputs": [],
   "source": [
    "model.compile(\n",
    "              loss='binary_crossentropy',\n",
    "              metrics=['accuracy'],\n",
    "              optimizer=tf.keras.optimizers.Adam()\n",
    "             )"
   ]
  },
  {
   "cell_type": "code",
   "execution_count": 24,
   "id": "ffebb3db",
   "metadata": {},
   "outputs": [
    {
     "name": "stdout",
     "output_type": "stream",
     "text": [
      "Model: \"sequential_3\"\n",
      "_________________________________________________________________\n",
      " Layer (type)                Output Shape              Param #   \n",
      "=================================================================\n",
      " conv2d_9 (Conv2D)           (None, 98, 98, 32)        320       \n",
      "                                                                 \n",
      " max_pooling2d_9 (MaxPooling  (None, 49, 49, 32)       0         \n",
      " 2D)                                                             \n",
      "                                                                 \n",
      " conv2d_10 (Conv2D)          (None, 47, 47, 32)        9248      \n",
      "                                                                 \n",
      " max_pooling2d_10 (MaxPoolin  (None, 23, 23, 32)       0         \n",
      " g2D)                                                            \n",
      "                                                                 \n",
      " conv2d_11 (Conv2D)          (None, 21, 21, 64)        18496     \n",
      "                                                                 \n",
      " max_pooling2d_11 (MaxPoolin  (None, 10, 10, 64)       0         \n",
      " g2D)                                                            \n",
      "                                                                 \n",
      " flatten_3 (Flatten)         (None, 6400)              0         \n",
      "                                                                 \n",
      " dense_6 (Dense)             (None, 64)                409664    \n",
      "                                                                 \n",
      " dropout_3 (Dropout)         (None, 64)                0         \n",
      "                                                                 \n",
      " dense_7 (Dense)             (None, 1)                 65        \n",
      "                                                                 \n",
      "=================================================================\n",
      "Total params: 437,793\n",
      "Trainable params: 437,793\n",
      "Non-trainable params: 0\n",
      "_________________________________________________________________\n",
      "None\n"
     ]
    }
   ],
   "source": [
    "print(model.summary())"
   ]
  },
  {
   "cell_type": "code",
   "execution_count": 26,
   "id": "e2c0eac8",
   "metadata": {},
   "outputs": [
    {
     "name": "stdout",
     "output_type": "stream",
     "text": [
      "Epoch 1/10\n",
      "34/34 [==============================] - 11s 331ms/step - loss: 0.0047 - accuracy: 0.9981 - val_loss: 0.0050 - val_accuracy: 0.9962\n",
      "Epoch 2/10\n",
      "34/34 [==============================] - 12s 357ms/step - loss: 0.0039 - accuracy: 0.9986 - val_loss: 0.0060 - val_accuracy: 0.9981\n",
      "Epoch 3/10\n",
      "34/34 [==============================] - 11s 333ms/step - loss: 0.0043 - accuracy: 0.9991 - val_loss: 0.0531 - val_accuracy: 0.9831\n",
      "Epoch 4/10\n",
      "34/34 [==============================] - 12s 343ms/step - loss: 0.0090 - accuracy: 0.9976 - val_loss: 0.0032 - val_accuracy: 0.9981\n",
      "Epoch 5/10\n",
      "34/34 [==============================] - 11s 334ms/step - loss: 0.0026 - accuracy: 0.9991 - val_loss: 0.0025 - val_accuracy: 0.9981\n",
      "Epoch 6/10\n",
      "34/34 [==============================] - 12s 348ms/step - loss: 0.0053 - accuracy: 0.9991 - val_loss: 0.0063 - val_accuracy: 0.9981\n",
      "Epoch 7/10\n",
      "34/34 [==============================] - 11s 330ms/step - loss: 0.0026 - accuracy: 0.9995 - val_loss: 0.0080 - val_accuracy: 0.9962\n",
      "Epoch 8/10\n",
      "34/34 [==============================] - 12s 341ms/step - loss: 0.0439 - accuracy: 0.9892 - val_loss: 0.0173 - val_accuracy: 0.9944\n",
      "Epoch 9/10\n",
      "34/34 [==============================] - 11s 320ms/step - loss: 0.0123 - accuracy: 0.9976 - val_loss: 0.0187 - val_accuracy: 0.9925\n",
      "Epoch 10/10\n",
      "34/34 [==============================] - 11s 317ms/step - loss: 0.0033 - accuracy: 0.9991 - val_loss: 0.0096 - val_accuracy: 0.9962\n"
     ]
    }
   ],
   "source": [
    "# обучение\n",
    "H = model.fit(trainX, trainY, validation_data=(testX, testY), epochs=10, batch_size=64, verbose=1, shuffle=False)"
   ]
  },
  {
   "cell_type": "code",
   "execution_count": 27,
   "id": "3dc0c548",
   "metadata": {},
   "outputs": [],
   "source": [
    "model.save('bonuses_model.h5')"
   ]
  },
  {
   "cell_type": "code",
   "execution_count": null,
   "id": "8c44fec0",
   "metadata": {},
   "outputs": [],
   "source": [
    "# # оценка нейросети\n",
    "# predictions = model.predict(testX, batch_size=32)\n",
    "# print(classification_report(testY.argmax(axis=1),\n",
    "#                             predictions.argmax(axis=1), target_names=lb.classes_))"
   ]
  },
  {
   "cell_type": "code",
   "execution_count": 35,
   "id": "8fb5ffe0",
   "metadata": {},
   "outputs": [
    {
     "name": "stdout",
     "output_type": "stream",
     "text": [
      "1/1 [==============================] - 0s 15ms/step\n",
      "The prediction is  [[0.99999994]]\n",
      "The actual label is  1\n"
     ]
    },
    {
     "data": {
      "image/png": "[encoded data removed]",
      "text/plain": [
       "<Figure size 432x288 with 1 Axes>"
      ]
     },
     "metadata": {
      "needs_background": "light"
     },
     "output_type": "display_data"
    }
   ],
   "source": [
    "n=400\n",
    "img=testX[n]\n",
    "plt.imshow(img)\n",
    "input_img = np.expand_dims(img, axis=0)\n",
    "print(\"The prediction is \", model.predict(input_img))\n",
    "print(\"The actual label is \", testY[n])"
   ]
  },
  {
   "cell_type": "code",
   "execution_count": 37,
   "id": "31250549",
   "metadata": {},
   "outputs": [
    {
     "name": "stdout",
     "output_type": "stream",
     "text": [
      "17/17 [==============================] - 1s 40ms/step - loss: 0.0096 - accuracy: 0.9962\n",
      "Accuracy =  99.62406158447266 %\n"
     ]
    }
   ],
   "source": [
    "_, acc = model.evaluate(testX, testY)\n",
    "print(\"Accuracy = \", (acc * 100), \"%\")"
   ]
  },
  {
   "cell_type": "code",
   "execution_count": null,
   "id": "4203d952",
   "metadata": {},
   "outputs": [],
   "source": []
  }
 ],
 "metadata": {
  "kernelspec": {
   "display_name": "Python 3 (ipykernel)",
   "language": "python",
   "name": "python3"
  },
  "language_info": {
   "codemirror_mode": {
    "name": "ipython",
    "version": 3
   },
   "file_extension": ".py",
   "mimetype": "text/x-python",
   "name": "python",
   "nbconvert_exporter": "python",
   "pygments_lexer": "ipython3",
   "version": "3.9.7"
  }
 },
 "nbformat": 4,
 "nbformat_minor": 5
}
