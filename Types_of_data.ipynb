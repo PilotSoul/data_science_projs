{
 "cells": [
  {
   "cell_type": "code",
   "execution_count": 1,
   "id": "1a55f810",
   "metadata": {},
   "outputs": [],
   "source": [
    "from PIL import Image\n",
    "from random import randint, choice\n",
    "import string\n",
    "from sklearn.preprocessing import LabelBinarizer\n",
    "import tensorflow as tf\n",
    "from tensorflow import keras\n",
    "from sklearn.model_selection import train_test_split\n",
    "from sklearn.metrics import classification_report\n",
    "from keras.models import Sequential\n",
    "from keras.layers import Dense, Dropout, Flatten, BatchNormalization\n",
    "from keras.layers import Conv2D, MaxPooling2D\n",
    "from keras.utils import normalize\n",
    "from tensorflow.keras.optimizers import SGD\n",
    "from tensorflow.keras.optimizers import RMSprop\n",
    "import matplotlib.pyplot as plt\n",
    "import os      # Библиотека для работы с фаловой системой \n",
    "import time \n",
    "import pandas as pd\n",
    "import numpy as np\n",
    "import random\n",
    "import pickle\n",
    "import cv2 as cv"
   ]
  },
  {
   "cell_type": "code",
   "execution_count": null,
   "id": "8e1cfee0",
   "metadata": {},
   "outputs": [],
   "source": [
    "# def num_randomizer():\n",
    "#     return randint(0, 500)\n",
    "# def letter_randomizer():\n",
    "#     letters = string.ascii_lowercase\n",
    "#     return ''.join(choice(letters) for i in range(5))\n",
    "# def russian_randomizer():\n",
    "#     words = [\"ФИО\", \"Иркутск\", \"Бонус\", \"1200/300\", \"Заместитель\", \"по\", \"корпоративной\", \"ведущий\", \"инженер\", \"Янталь\", \"работа\"]\n",
    "#     return ' '.join(choice(words) for i in range(2))"
   ]
  },
  {
   "cell_type": "code",
   "execution_count": null,
   "id": "833b17b5",
   "metadata": {},
   "outputs": [],
   "source": [
    "# font = ImageFont.truetype(\"../Downloads/TNR.ttf\", 15)\n",
    "# def image_generation():\n",
    "#     global font\n",
    "#     img = Image.new('RGB', (200, 100), (255, 255, 255))\n",
    "#     drawer = ImageDraw.Draw(img)\n",
    "# #     num = num_randomizer()\n",
    "#     text = letter_randomizer()\n",
    "#     drawer.text((15, 20), f\"{text} {letter_randomizer()} {letter_randomizer()}\", font=font, fill='black')\n",
    "#     drawer.text((15, 40), f\"{letter_randomizer()} {letter_randomizer()}\", font=font, fill='black')\n",
    "#     img.save(f'printed/printed_{text}.jpg')\n",
    "# #     img.show()"
   ]
  },
  {
   "cell_type": "code",
   "execution_count": null,
   "id": "34b3195d",
   "metadata": {},
   "outputs": [],
   "source": [
    "# for i in range(200):\n",
    "#     image_generation()"
   ]
  },
  {
   "cell_type": "markdown",
   "id": "a87156ea",
   "metadata": {},
   "source": [
    "## Use template to find object on Image\n",
    "https://docs.opencv.org/4.x/d4/dc6/tutorial_py_template_matching.html"
   ]
  },
  {
   "cell_type": "code",
   "execution_count": null,
   "id": "8b90f365",
   "metadata": {},
   "outputs": [],
   "source": [
    "# import cv2 as cv\n",
    "# import numpy as np\n",
    "# from matplotlib import pyplot as plt"
   ]
  },
  {
   "cell_type": "code",
   "execution_count": null,
   "id": "d0ec51bb",
   "metadata": {},
   "outputs": [],
   "source": [
    "# img_rgb = cv.imread('kpi_118815_4.jpg')\n",
    "# img_gray = cv.cvtColor(img_rgb, cv.COLOR_BGR2GRAY)\n",
    "# template = cv.imread('screen.png',0)\n",
    "# w, h = template.shape[::-1]\n",
    "# res = cv.matchTemplate(img_gray,template,cv.TM_CCOEFF_NORMED)\n",
    "# threshold = 0.8\n",
    "# loc = np.where( res >= threshold)\n",
    "# for pt in zip(*loc[::-1]):\n",
    "#     cv.rectangle(img_rgb, pt, (pt[0] + w, pt[1] + h), (0,0,255), 2)\n",
    "# cv.imwrite('res.png',img_rgb)"
   ]
  },
  {
   "cell_type": "markdown",
   "id": "5f458cc6",
   "metadata": {},
   "source": [
    "## Rename data"
   ]
  },
  {
   "cell_type": "code",
   "execution_count": null,
   "id": "3eee8842",
   "metadata": {},
   "outputs": [],
   "source": [
    "# import pathlib\n",
    "# path = pathlib.Path(\"handwritten\")\n",
    "# for i, path in enumerate(path.glob('*.png')):\n",
    "#     new_name = 'handwritten_' + str(i) + '.png'\n",
    "#     path.rename('handwritten/' + new_name)"
   ]
  },
  {
   "cell_type": "markdown",
   "id": "3605bf90",
   "metadata": {},
   "source": [
    "## Prepare data"
   ]
  },
  {
   "cell_type": "code",
   "execution_count": null,
   "id": "57418818",
   "metadata": {},
   "outputs": [],
   "source": [
    "# import pathlib\n",
    "# path = pathlib.Path(\"texts/handwritten\")\n",
    "# for i, path in enumerate(path.glob('*.png')):\n",
    "#     im = Image.open(path)\n",
    "#     name = str(path).split(\".\")[0]\n",
    "#     name = name.split(\"/\")[-1]\n",
    "#     rgb_im = im.convert('RGB')\n",
    "#     rgb_im.save(f'texts/handwritten/{name}.jpg')\n",
    "#     os.remove(path)"
   ]
  },
  {
   "cell_type": "code",
   "execution_count": 2,
   "id": "f33b6833",
   "metadata": {},
   "outputs": [],
   "source": [
    "data = []\n",
    "labels = []"
   ]
  },
  {
   "cell_type": "code",
   "execution_count": 3,
   "id": "a2895031",
   "metadata": {},
   "outputs": [],
   "source": [
    "def get_time_read(dir_read):\n",
    "    cur_time = time.time()          # Засекаем текущее время\n",
    "    num = 0                         # Количество прочитанных файлов\n",
    "    list_dir = os.listdir(dir_read) # Получаем список подкаталогов                  \n",
    "    for cur_dir in list_dir:\n",
    "        if cur_dir == '.DS_Store':\n",
    "            continue\n",
    "        else:\n",
    "            list_file = os.listdir(dir_read + '/' + cur_dir)\n",
    "            try:\n",
    "                for cur_file in list_file:\n",
    "                    if cur_file == '.DS_Store':\n",
    "                        continue\n",
    "                    image = cv.imread(dir_read + '/' + cur_dir + '/' + cur_file)\n",
    "                    image = cv.cvtColor(image, cv.COLOR_BGR2RGB)\n",
    "                    image = cv.cvtColor(image, cv.COLOR_RGB2GRAY)\n",
    "                    image = cv.resize(image, (100, 100))\n",
    "                    data.append(image)\n",
    "                    category = cur_file.split('_')[0]\n",
    "                    if category == 'printed':\n",
    "                        labels.append(1)\n",
    "                    else:\n",
    "                        labels.append(0)\n",
    "                    num += 1\n",
    "            except Exception as e:\n",
    "                print(e)\n",
    "    print('Количество загруженных изображений =', num)\n",
    "    print('Затрачено времени -', round(time.time() - cur_time, 2), 'cек')"
   ]
  },
  {
   "cell_type": "code",
   "execution_count": 4,
   "id": "58f03e5c",
   "metadata": {},
   "outputs": [
    {
     "name": "stdout",
     "output_type": "stream",
     "text": [
      "Количество загруженных изображений = 2374\n",
      "Затрачено времени - 2.8 cек\n"
     ]
    }
   ],
   "source": [
    "try:\n",
    "    get_time_read('texts')\n",
    "except:\n",
    "    print('x')"
   ]
  },
  {
   "cell_type": "code",
   "execution_count": 5,
   "id": "6aaf7f47",
   "metadata": {},
   "outputs": [],
   "source": [
    "data = np.array(data, dtype=\"float\") / 255.0\n",
    "labels = np.array(labels)\n",
    "\n",
    "(trainX, testX, trainY, testY) = train_test_split(data,\n",
    "    labels, test_size=0.20, random_state=30)\n",
    "\n",
    "trainX = normalize(trainX, axis=1)\n",
    "testX = normalize(testX, axis=1)"
   ]
  },
  {
   "cell_type": "code",
   "execution_count": 6,
   "id": "e396536b",
   "metadata": {},
   "outputs": [],
   "source": [
    "INIT_LR = 0.001\n",
    "EPOCHS = 15"
   ]
  },
  {
   "cell_type": "code",
   "execution_count": 7,
   "id": "b2e398d0",
   "metadata": {},
   "outputs": [
    {
     "name": "stderr",
     "output_type": "stream",
     "text": [
      "2022-07-20 09:55:18.418133: I tensorflow/core/platform/cpu_feature_guard.cc:193] This TensorFlow binary is optimized with oneAPI Deep Neural Network Library (oneDNN) to use the following CPU instructions in performance-critical operations:  AVX2 FMA\n",
      "To enable them in other operations, rebuild TensorFlow with the appropriate compiler flags.\n"
     ]
    }
   ],
   "source": [
    "model = Sequential()\n",
    "\n",
    "model.add(Conv2D(32, (3, 3), activation = 'relu', input_shape=(100, 100, 1, )))\n",
    "model.add(MaxPooling2D(pool_size=(2, 2)))\n",
    "model.add(Conv2D(32, (3, 3), kernel_initializer='he_uniform', activation = 'relu'))\n",
    "model.add(MaxPooling2D(pool_size=(2, 2)))\n",
    "model.add(Conv2D(64, (3, 3), kernel_initializer='he_uniform', activation = 'relu'))\n",
    "model.add(MaxPooling2D(pool_size=(2, 2)))\n",
    "\n",
    "model.add(Flatten())\n",
    "model.add(Dense(64,activation='relu'))\n",
    "model.add(Dropout(0.5))\n",
    "model.add(Dense(1,activation='sigmoid'))"
   ]
  },
  {
   "cell_type": "code",
   "execution_count": 8,
   "id": "c1d83150",
   "metadata": {},
   "outputs": [],
   "source": [
    "model.compile(\n",
    "              loss='binary_crossentropy',\n",
    "              metrics=['accuracy'],\n",
    "              optimizer=tf.keras.optimizers.Adam()\n",
    "             )"
   ]
  },
  {
   "cell_type": "code",
   "execution_count": 12,
   "id": "2e56b923",
   "metadata": {},
   "outputs": [
    {
     "name": "stdout",
     "output_type": "stream",
     "text": [
      "Epoch 1/5\n",
      "30/30 [==============================] - 22s 741ms/step - loss: 0.0229 - accuracy: 0.9968 - val_loss: 2.6612e-04 - val_accuracy: 1.0000\n",
      "Epoch 2/5\n",
      "30/30 [==============================] - 25s 845ms/step - loss: 0.0101 - accuracy: 0.9989 - val_loss: 4.5328e-05 - val_accuracy: 1.0000\n",
      "Epoch 3/5\n",
      "30/30 [==============================] - 21s 700ms/step - loss: 0.0073 - accuracy: 1.0000 - val_loss: 3.7044e-05 - val_accuracy: 1.0000\n",
      "Epoch 4/5\n",
      "30/30 [==============================] - 21s 695ms/step - loss: 0.0065 - accuracy: 1.0000 - val_loss: 8.8999e-06 - val_accuracy: 1.0000\n",
      "Epoch 5/5\n",
      "30/30 [==============================] - 21s 697ms/step - loss: 0.0089 - accuracy: 1.0000 - val_loss: 7.8923e-06 - val_accuracy: 1.0000\n"
     ]
    }
   ],
   "source": [
    "H = model.fit(trainX, trainY, validation_data=(testX, testY), epochs=5, batch_size=64, verbose=1, shuffle=False)"
   ]
  },
  {
   "cell_type": "code",
   "execution_count": 13,
   "id": "782d6c69",
   "metadata": {},
   "outputs": [
    {
     "name": "stdout",
     "output_type": "stream",
     "text": [
      "15/15 [==============================] - 1s 94ms/step - loss: 7.8923e-06 - accuracy: 1.0000\n",
      "Accuracy =  100.0 %\n"
     ]
    }
   ],
   "source": [
    "_, acc = model.evaluate(testX, testY)\n",
    "print(\"Accuracy = \", (acc * 100), \"%\")"
   ]
  },
  {
   "cell_type": "code",
   "execution_count": 20,
   "id": "51302b87",
   "metadata": {},
   "outputs": [
    {
     "name": "stdout",
     "output_type": "stream",
     "text": [
      "1/1 [==============================] - 0s 40ms/step\n",
      "The prediction is  [[1.]]\n",
      "The actual label is  1\n"
     ]
    },
    {
     "data": {
      "image/png": "[encoded data removed]",
      "text/plain": [
       "<Figure size 432x288 with 1 Axes>"
      ]
     },
     "metadata": {
      "needs_background": "light"
     },
     "output_type": "display_data"
    }
   ],
   "source": [
    "n=2\n",
    "img=testX[n]\n",
    "plt.imshow(img)\n",
    "input_img = np.expand_dims(img, axis=0)\n",
    "print(\"The prediction is \", model.predict(input_img))\n",
    "print(\"The actual label is \", testY[n])"
   ]
  },
  {
   "cell_type": "code",
   "execution_count": null,
   "id": "aee3c9db",
   "metadata": {},
   "outputs": [],
   "source": []
  }
 ],
 "metadata": {
  "kernelspec": {
   "display_name": "Python 3 (ipykernel)",
   "language": "python",
   "name": "python3"
  },
  "language_info": {
   "codemirror_mode": {
    "name": "ipython",
    "version": 3
   },
   "file_extension": ".py",
   "mimetype": "text/x-python",
   "name": "python",
   "nbconvert_exporter": "python",
   "pygments_lexer": "ipython3",
   "version": "3.9.7"
  }
 },
 "nbformat": 4,
 "nbformat_minor": 5
}
